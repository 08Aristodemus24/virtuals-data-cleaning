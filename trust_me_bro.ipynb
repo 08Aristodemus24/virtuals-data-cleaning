{
 "cells": [
  {
   "cell_type": "code",
   "execution_count": 20,
   "metadata": {},
   "outputs": [
    {
     "name": "stdout",
     "output_type": "stream",
     "text": [
      "The autoreload extension is already loaded. To reload it, use:\n",
      "  %reload_ext autoreload\n"
     ]
    }
   ],
   "source": [
    "import pandas as pd\n",
    "import os\n",
    "import json\n",
    "import datetime as dt\n",
    "import re\n",
    "import fitz\n",
    "import io\n",
    "import pytesseract\n",
    "\n",
    "from dateutil import parser \n",
    "from PIL import Image\n",
    "from pypdf import PdfReader\n",
    "\n",
    "from concurrent.futures import ThreadPoolExecutor\n",
    "from utilities.preprocessors import normalize_and_clean, clean_and_split_data\n",
    "from utilities.loaders import read_files\n",
    "from utilities.utilities import rename_all\n",
    "\n",
    "%load_ext autoreload\n",
    "%autoreload 2"
   ]
  },
  {
   "cell_type": "markdown",
   "metadata": {},
   "source": [
    "### Note tesseract requires download and setup of tesseract-ocr executable. Refer to this: https://stackoverflow.com/questions/50951955/pytesseract-tesseractnotfound-error-tesseract-is-not-installed-or-its-not-i for more information"
   ]
  },
  {
   "cell_type": "code",
   "execution_count": 3,
   "metadata": {},
   "outputs": [],
   "source": [
    "pytesseract.pytesseract.tesseract_cmd = r'C:\\Program Files\\Tesseract-OCR\\tesseract.exe'"
   ]
  },
  {
   "cell_type": "code",
   "execution_count": 4,
   "metadata": {},
   "outputs": [
    {
     "data": {
      "text/plain": [
       "['Dataset#6209unrollnow.com-1742218145031651724.pdf',\n",
       " 'Dataset#6211unrollnow.com-1684202476994437125.pdf',\n",
       " 'Dataset#7062Dataset Structure.txt']"
      ]
     },
     "execution_count": 4,
     "metadata": {},
     "output_type": "execute_result"
    }
   ],
   "source": [
    "input_dir = './$TRUST ME BROS input'\n",
    "files = os.listdir(input_dir)\n",
    "files"
   ]
  },
  {
   "cell_type": "code",
   "execution_count": 5,
   "metadata": {},
   "outputs": [
    {
     "data": {
      "text/plain": [
       "Document('./$TRUST ME BROS input/Dataset#6209unrollnow.com-1742218145031651724.pdf')"
      ]
     },
     "execution_count": 5,
     "metadata": {},
     "output_type": "execute_result"
    }
   ],
   "source": [
    "test_path = f'{input_dir}/Dataset#6209unrollnow.com-1742218145031651724.pdf'\n",
    "# test_path = f'{input_dir}/Dataset#4323Larry_Miguel_R_Cueva_CV.pdf'\n",
    "test_pdf = fitz.open(test_path)\n",
    "test_pdf"
   ]
  },
  {
   "cell_type": "code",
   "execution_count": 6,
   "metadata": {},
   "outputs": [
    {
     "data": {
      "text/plain": [
       "2"
      ]
     },
     "execution_count": 6,
     "metadata": {},
     "output_type": "execute_result"
    }
   ],
   "source": [
    "len(test_pdf)"
   ]
  },
  {
   "cell_type": "code",
   "execution_count": 7,
   "metadata": {},
   "outputs": [
    {
     "data": {
      "text/plain": [
       "Document('./$TRUST ME BROS input/Dataset#6209unrollnow.com-1742218145031651724.pdf')"
      ]
     },
     "execution_count": 7,
     "metadata": {},
     "output_type": "execute_result"
    }
   ],
   "source": [
    "test_pdf"
   ]
  },
  {
   "cell_type": "code",
   "execution_count": 8,
   "metadata": {},
   "outputs": [
    {
     "name": "stdout",
     "output_type": "stream",
     "text": [
      "[+] Found a total of 2 images on page 0\n",
      "[+] Found a total of 2 images on page 1\n"
     ]
    }
   ],
   "source": [
    "# iterate over PDF pages\n",
    "data = []\n",
    "for page_index, page in enumerate(test_pdf):\n",
    "\n",
    "    # get images on the page\n",
    "    image_list = page.get_images(full=True)\n",
    "\n",
    "    # if page contains no text then this statement will return \n",
    "    # an empty list akin to what page.get_images() naturally returns\n",
    "    # this returns a whole string\n",
    "    text_list = None if page.get_text() == \"\" else page.get_text()\n",
    "    # print(text_list)\n",
    "    # print(image_list)\n",
    "\n",
    "    # printing number of images found in this page\n",
    "    if image_list:\n",
    "        print(f\"[+] Found a total of {len(image_list)} images on page {page_index}\")\n",
    "    else:\n",
    "        print(\"[!] No images found on page\", page_index)\n",
    "\n",
    "    data.extend(image_list)\n",
    "    data.append(text_list)"
   ]
  },
  {
   "cell_type": "code",
   "execution_count": 9,
   "metadata": {},
   "outputs": [
    {
     "data": {
      "text/plain": [
       "[(21, 0, 1512, 2170, 8, 'DeviceRGB', '', 'I0', 'DCTDecode', 0),\n",
       " (22, 0, 1512, 1036, 8, 'DeviceRGB', '', 'I1', 'DCTDecode', 0),\n",
       " None,\n",
       " (21, 0, 1512, 2170, 8, 'DeviceRGB', '', 'I0', 'DCTDecode', 0),\n",
       " (22, 0, 1512, 1036, 8, 'DeviceRGB', '', 'I1', 'DCTDecode', 0),\n",
       " None]"
      ]
     },
     "execution_count": 9,
     "metadata": {},
     "output_type": "execute_result"
    }
   ],
   "source": [
    "data"
   ]
  },
  {
   "cell_type": "markdown",
   "metadata": {},
   "source": [
    "### filter for duplicate images because sometimes pdf reader reads for example 2 pages and of those 2 pages the pages contain the same images"
   ]
  },
  {
   "cell_type": "code",
   "execution_count": 10,
   "metadata": {},
   "outputs": [
    {
     "data": {
      "text/plain": [
       "[None,\n",
       " (21, 0, 1512, 2170, 8, 'DeviceRGB', '', 'I0', 'DCTDecode', 0),\n",
       " (22, 0, 1512, 1036, 8, 'DeviceRGB', '', 'I1', 'DCTDecode', 0)]"
      ]
     },
     "execution_count": 10,
     "metadata": {},
     "output_type": "execute_result"
    }
   ],
   "source": [
    "data_filt = list(set(data))\n",
    "data_filt"
   ]
  },
  {
   "cell_type": "code",
   "execution_count": 11,
   "metadata": {},
   "outputs": [
    {
     "data": {
      "text/plain": [
       "3"
      ]
     },
     "execution_count": 11,
     "metadata": {},
     "output_type": "execute_result"
    }
   ],
   "source": [
    "len(data_filt)"
   ]
  },
  {
   "cell_type": "code",
   "execution_count": 12,
   "metadata": {},
   "outputs": [],
   "source": [
    "output = []\n",
    "for data_index, data in enumerate(data_filt, start=1):\n",
    "\n",
    "    # note that data may be in a form of a tuple meaning an\n",
    "    # image or just a full string. If such is the case that it\n",
    "    # is a tuple proceed with extracting image from pdf and bytes\n",
    "    # object and read it through pillow then convert to text via \n",
    "    # tesseract\n",
    "    # print(type(data))\n",
    "    if type(data) == tuple:\n",
    "        # get the XREF of the image\n",
    "        xref = data[0]\n",
    "\n",
    "        # extract the image bytes\n",
    "        image_obj = test_pdf.extract_image(xref)\n",
    "        image_bytes = image_obj[\"image\"]\n",
    "\n",
    "        # get the image extension\n",
    "        image_ext = image_obj[\"ext\"]\n",
    "\n",
    "        # convert the bytes of the image to BytesIO object\n",
    "        # so it can be read by Image.open() function\n",
    "        base_image = Image.open(io.BytesIO(image_bytes))\n",
    "\n",
    "        # return value will naturally be a giant string with \\n char\n",
    "        # so split it according to \\n char to reveal lines\n",
    "        text = pytesseract.image_to_string(base_image)\n",
    "        text = text.split('\\n')\n",
    "        output.extend(text)\n",
    "\n",
    "    elif type(data) == str:\n",
    "        text = data.split('\\n')\n",
    "        output.extend(text)"
   ]
  },
  {
   "cell_type": "code",
   "execution_count": 13,
   "metadata": {},
   "outputs": [
    {
     "data": {
      "text/plain": [
       "['What is “Buy The Rumor’ Let ‘s say you are a Banana lover (ape), and you hear the rumor from some',\n",
       " 'apes that your nearby supermarket will raise banana price from $1 to $1.5 tomorrow. What would you do?',\n",
       " 'Of course, you will bring a big bag and buy all the banana you can find.',\n",
       " '',\n",
       " 'What if your neighbors also love banana, but they haven’t heard about the rumor yet? Now you would',\n",
       " 'bring 10 big bags to the supermarket, to the market and to Amazon to buy all the banana you can find.',\n",
       " 'Then tomorrow you dump it on your neighbors at $2 (Since banana is out of https://t.co/xil2HoGkk1',\n",
       " '',\n",
       " 'Now, let ‘s say the rumor is not from some normal apes. A big ape who owns a big company named',\n",
       " 'BlackRock, went to Bloomberg and start saying things like “I am going to buy all the banana in the world in',\n",
       " '6 months and there is nothing you can do to stop me. But hey, | am not https://t.co/IERVqW3eq1',\n",
       " '',\n",
       " 'Rumor pushes the price up. News set the price down. Banana bought at low will be sold at high. Ape who',\n",
       " 'is late, will have expensive dinner. Ape who is early, get rewarded. Ape who is greedy, get hungry. Next will',\n",
       " 'be \"Sell The News\"',\n",
       " '',\n",
       " '']"
      ]
     },
     "execution_count": 13,
     "metadata": {},
     "output_type": "execute_result"
    }
   ],
   "source": [
    "output"
   ]
  },
  {
   "cell_type": "code",
   "execution_count": 14,
   "metadata": {},
   "outputs": [
    {
     "name": "stdout",
     "output_type": "stream",
     "text": [
      ".txt ['Dataset#7062Dataset Structure.txt']\n",
      ".pdf ['Dataset#6209unrollnow.com-1742218145031651724.pdf', 'Dataset#6211unrollnow.com-1684202476994437125.pdf']\n",
      "[+] Found a total of 2 images on page 0\n",
      "[+] Found a total of 2 images on page 1\n",
      "[+] Found a total of 2 images on page 0\n",
      "[+] Found a total of 2 images on page 1\n"
     ]
    },
    {
     "data": {
      "text/plain": [
       "{'.txt': [('Dataset#7062Dataset Structure',\n",
       "   ['Dataset Structure:\\n',\n",
       "    'Instructions:\\n',\n",
       "    'Airdrop Eligibility:\\n',\n",
       "    'Instruction: \"How do I check if I\\'m eligible for the $ME airdrop?\"\\n',\n",
       "    'Expected Output: Explanation of the process to use an eligibility checker announced by @MagicEden before the Token Generation Event (TGE), reference to X posts and official announcements for more details.\\n',\n",
       "    '\\n',\n",
       "    'Tokenomics Overview:\\n',\n",
       "    'Instruction: \"Explain the tokenomics of $ME.\"\\n',\n",
       "    'Expected Output: A brief overview stating that $ME has a total supply of 1 billion tokens, distribution over four years, significant community allocation including an initial 12.5% airdrop, and details on staking, governance, and ecosystem development allocations.\\n',\n",
       "    '\\n',\n",
       "    'Airdrop Value:\\n',\n",
       "    'Instruction: \"What is the expected value of the $ME airdrop?\"\\n',\n",
       "    \"Expected Output: Based on pre-market trading, the airdrop's value could be around $362 million, with tokens priced at approximately $2.9 each.\\n\",\n",
       "    '\\n',\n",
       "    'Token Utility:\\n',\n",
       "    'Instruction: \"What can $ME be used for?\"\\n',\n",
       "    'Expected Output: $ME is used for transaction fees across supported blockchains, staking for rewards, and participating in governance decisions to influence the development of Magic Eden.\\n',\n",
       "    '\\n',\n",
       "    'Claiming Process:\\n',\n",
       "    'Instruction: \"How do I claim my $ME tokens?\"\\n',\n",
       "    \"Expected Output: Users need to check their eligibility, link their wallet to Magic Eden's platform, and claim their allocation via the mobile dApp on the day of the TGE. Staking is also an option post-claim.\\n\",\n",
       "    '\\n',\n",
       "    'Future Plans:\\n',\n",
       "    'Instruction: \"What\\'s planned for $ME after the airdrop?\"\\n',\n",
       "    'Expected Output: Magic Eden aims to implement a broad on-chain trading rewards program where users can earn $ME for trading, alongside other ecosystem expansions and partnerships.\\n',\n",
       "    '\\n',\n",
       "    '\\n',\n",
       "    '\\n',\n",
       "    'Additional Queries:\\n',\n",
       "    'Staking Details:\\n',\n",
       "    'Instruction: \"Can you explain staking with $ME?\"\\n',\n",
       "    'Expected Output: Discuss how users can stake $ME to earn additional tokens or rewards, potentially influencing network decisions.\\n',\n",
       "    'Multi-Chain Integration:\\n',\n",
       "    'Instruction: \"Which blockchains does $ME support?\"\\n',\n",
       "    'Expected Output: $ME integrates with Solana, Bitcoin, and Ethereum Virtual Machine (EVM) ecosystems, promoting cross-chain functionality.\\n',\n",
       "    '\\n',\n",
       "    'Community Allocation:\\n',\n",
       "    'Instruction: \"How much of the $ME token supply is for the community?\"\\n',\n",
       "    'Expected Output: 502 million tokens out of 1 billion are allocated for the community, with 12.5% available immediately at TGE.\\n'])],\n",
       " '.pdf': [('Dataset#6209unrollnow.com-1742218145031651724',\n",
       "   ['What is “Buy The Rumor’ Let ‘s say you are a Banana lover (ape), and you hear the rumor from some',\n",
       "    'apes that your nearby supermarket will raise banana price from $1 to $1.5 tomorrow. What would you do?',\n",
       "    'Of course, you will bring a big bag and buy all the banana you can find.',\n",
       "    '',\n",
       "    'What if your neighbors also love banana, but they haven’t heard about the rumor yet? Now you would',\n",
       "    'bring 10 big bags to the supermarket, to the market and to Amazon to buy all the banana you can find.',\n",
       "    'Then tomorrow you dump it on your neighbors at $2 (Since banana is out of https://t.co/xil2HoGkk1',\n",
       "    '',\n",
       "    'Now, let ‘s say the rumor is not from some normal apes. A big ape who owns a big company named',\n",
       "    'BlackRock, went to Bloomberg and start saying things like “I am going to buy all the banana in the world in',\n",
       "    '6 months and there is nothing you can do to stop me. But hey, | am not https://t.co/IERVqW3eq1',\n",
       "    '',\n",
       "    'Rumor pushes the price up. News set the price down. Banana bought at low will be sold at high. Ape who',\n",
       "    'is late, will have expensive dinner. Ape who is early, get rewarded. Ape who is greedy, get hungry. Next will',\n",
       "    'be \"Sell The News\"',\n",
       "    '',\n",
       "    '']),\n",
       "  ('Dataset#6211unrollnow.com-1684202476994437125',\n",
       "   ['Before doing a series of Trade Material, | would like to introduce myself properly first. You may know me',\n",
       "    'from my top leaderboard position on Binance in January 2023, but my trading journey started long before',\n",
       "    'that. ~~ | began part-time trading in 2013 while running my local business. | started with a capital of',\n",
       "    'around $20k-$25k, but it was gone after just two months. | tried again with $5k, but that too was gone after',\n",
       "    'three months. And so it went, again and again. From 2013 to 2015, all my trading efforts resulted in total',\n",
       "    'loss. Luckily, my local business was doing well, so | had the capital to continue my trading habit - or should',\n",
       "    '| say addiction? <* While struggling with forex trading, | also started researching crypto in 2014. If you',\n",
       "    'were around at that time, you might remember the shady exchange called BTC-E - it was like Binance is',\n",
       "    'now. That’s where | bought my first crypto, LTC, because it was considered the silver to BTC’s gold. | also',\n",
       "    'bought the first Proof of Stake coin - no, not ETH, but PPC. @ But that was it for me and crypto at the',\n",
       "    'time. | didn’t have enough conviction to invest more, so instead, | kept giving away my business profits to',\n",
       "    'my forex broker like a generous philanthropist. @ 2017-2018 were turning point years for me. My LTC',\n",
       "    'investment, which | had bought for $3 back in 2014, had grown to $30. My $20k investment, which my wife',\n",
       "    'used to joke about, had turned into $200k. That’s when | started taking crypto more seriously. At the same',\n",
       "    'time, my local business was going downhill and barely surviving, so | thought | had found a way out. | built',\n",
       "    'my first LTC farm and it yielded insanely well - but it was still one of the worst decisions | ever made. The',\n",
       "    'day | bought the LTC miner, BTC was worth $1600. The day | closed my farm, BTC was worth $19000. It',\n",
       "    'wasn’t a good decision, but it was a valuable experience - like they say, you learn from your mistakes (and',\n",
       "    'boy did | learn!). | also started trading crypto on Poloniex - the most user-friendly exchange at the time -',\n",
       "    'which offered 3x leverage too. But then the nightmare began again. Somehow, | ended up putting almost',\n",
       "    'all of my net worth into ETH at $250-$300 and leveraged it 3x against BTC at around 0.07. You probably',\n",
       "    'know how that ended - BTC went up-only after the CME news while ETH stayed around $300 forever like',\n",
       "    'a stubborn mule 4 That was the first time | experienced a nearly wipe-out of my capital - from more than',\n",
       "    '$1m to only $100k+. But | didn’t give up (&j About a month later, we had one of the most exciting alt-',\n",
       "    'seasons in history. Somehow, | caught a perfect play - from 3x XRPBTC then switched to 3x ETHBTC -',\n",
       "    'and made it all back in just two trades and even doubled my net worth to over $2m+. Talk about a',\n",
       "    'comeback! %» At that time, there was also heavy Tether FUD and | decided to convert all of my crypto to',\n",
       "    'BTC and think about retiring - or at least taking a long vacation on a tropical island ,3, Of course, it didn’t',\n",
       "    'last long. About six months later when BTC was around $7k-8k in the middle of a bear market, somehow |',\n",
       "    'discovered Bitmex - the worst discovery ever in the history of discoveries. Poloniex leverage looked like',\n",
       "    'child’s play compared to Bitmex at that time. | mostly forgot about forex trading too - who cared about fiat',\n",
       "    'trading when you can literally burn your networth in 1 day, | mean triple your networth in 1 day. Of course,',\n",
       "    'it didn’t end well with Bitmex either (surprise surprise!). This time it took me about five months to lose 90%',\n",
       "    'of my BTC holdings there just before the crash from $6k to $3k. Then in 2019 with the remaining 10% of',\n",
       "    'my BTC holdings somehow turned back into 60% with the famous echo bubble from $3k to $13k. Then |',\n",
       "    'lost 90% of these again in the Covid crash. Over-leveraging and over-trading in a bear/choppy market',\n",
       "    'condition were the reasons why | almost wiped out all of my capital in just two years. | wasn’t trading; | was',\n",
       "    'gambling with fancy TA and FA thoughts - like a high-roller in Vegas, but without the free drinks ~* Luckily',\n",
       "    'for me, after taking six months off from trading after the Covid crash, | realized my mistake and returned to',\n",
       "    'trading with a very careful framework and only five BTC left as capital. The 2021 bull market was easy - |',\n",
       "    'got back to my ATH again, trading big sizes but with a much more careful approach. There were',\n",
       "    \"drawdowns in between, but they weren't as bad as before - only about 30-40% of my capital, in sync with\",\n",
       "    'the market drop, which | consider not too shabby. “» Somehow, | dodged the Luna crash because of one',\n",
       "    'simple thing - | only had conviction in BTC and ETH. And somehow, | also dodged the FTX saga because',\n",
       "    'of another simple thing - | trusted my cold wallet more than Sam’s wallet. (# But the bear market was not',\n",
       "    'a good condition to trade - | got chopped to death and divided my capital by two just a few months into',\n",
       "    '2022. The fear of another 90% net worth wipe-out appeared in my mind again. So, | decided to sell all of',\n",
       "    'my crypto - literally everything - and convert it into my local currency. Then | bought real estate, saved',\n",
       "    'money in the bank, gave it to my wife, and only kept about $20k in my wallet as “play” money. @ Then',\n",
       "    'somehow, | remembered that forex was still there, so | found my Exness account and started trading',\n",
       "    'again. After living so long in the fast-moving crypto market, forex felt like a walk in the park @ Most of my',\n",
       "    'setups printed money, drawdowns were minimal, and performance was excellent. | turned my $2k deposit',\n",
       "    'into $100k and then that $100k into about $500k a few months later. With all the profits, | went back to',\n",
       "    'buying spot crypto again and then traded heavily on Binance - that’s when you saw me on their futures',\n",
       "    'leaderboard. ~“ And there you have it - my trading story. During all those rollercoaster moments, | learned',\n",
       "    '',\n",
       "    'eS ee Le ON EE en RE ee La Oe Ce te x SN SM Comer a) | OE a iy Ree} Ey irene le pera nn Seer me',\n",
       "    '',\n",
       "    'aA rN sas PENMJEEE anny | eee Shes APCAMall 3 CAVIIVILINO. WY TISITS O VVETCAL TTT AN VEER hf AaANUVUETT LED ih Pra Li J IVICAWWS TIGA OWING.',\n",
       "    'Money Management: because let’s face it, we all need help with that <* Trading Fees: how important they',\n",
       "    'are and how to reduce them as much as possible. - Watching price action on charts: from 1 minute to 1',\n",
       "    'week. - Trade setups: how | usually choose my entry, stop loss, and take profit. - News Trading: Why',\n",
       "    'FOMC is important and why we all need to watch Mr. Powell carefully? - Crypto Market: what spot coins',\n",
       "    'should | hold for the long term? What crypto should | trade futures on? - Forex Market: don’t underestimate',\n",
       "    'fiat currency! What pairs should | trade? Swing or scalp trade? If you want me to cover other aspects,',\n",
       "    'please comment here so | can add them to the list. Thank you for reading until this line - | know this is a',\n",
       "    'very long tweet (or should | say mini-novel?), but without properly introducing myself, how can | expect',\n",
       "    'readers to “trust me bro”? @',\n",
       "    '',\n",
       "    'Performance',\n",
       "    'Summary',\n",
       "    'Account',\n",
       "    'All accounts v 3 Last 365 days v',\n",
       "    'PERFORMANCE',\n",
       "    '1,262,998.07 USD 8950 2,564,928,010.42 USD 31,406.12 USD',\n",
       "    'fit +5,209,719.75 USD fitable 4954 3,482,444,475.34 USD 1t 60,218.93 USD',\n",
       "    '',\n",
       "    '-3,946,721.68 USD fita 3996',\n",
       "    ''])]}"
      ]
     },
     "execution_count": 14,
     "metadata": {},
     "output_type": "execute_result"
    }
   ],
   "source": [
    "files_dict = read_files(input_dir, files)\n",
    "files_dict"
   ]
  },
  {
   "cell_type": "code",
   "execution_count": 15,
   "metadata": {},
   "outputs": [
    {
     "data": {
      "text/plain": [
       "dict_keys(['.txt', '.pdf'])"
      ]
     },
     "execution_count": 15,
     "metadata": {},
     "output_type": "execute_result"
    }
   ],
   "source": [
    "files_dict.keys()"
   ]
  },
  {
   "cell_type": "code",
   "execution_count": 16,
   "metadata": {},
   "outputs": [
    {
     "data": {
      "text/plain": [
       "2"
      ]
     },
     "execution_count": 16,
     "metadata": {},
     "output_type": "execute_result"
    }
   ],
   "source": [
    "len(files_dict['.pdf'])"
   ]
  },
  {
   "cell_type": "code",
   "execution_count": 19,
   "metadata": {},
   "outputs": [
    {
     "name": "stdout",
     "output_type": "stream",
     "text": [
      "['dataset structure', 'instructions', 'airdrop eligibility', 'instruction how do i check if i am eligible for the me airdrop', 'expected output explanation of the process to use an eligibility checker announced by magiceden before the token generation event tge reference to x posts and official announcements for more details', 'tokenomics overview', 'instruction explain the tokenomics of me', 'expected output a brief overview stating that me has a total supply of billion tokens distribution over four years significant community allocation including an initial percent airdrop and details on staking governance and ecosystem development allocations', 'airdrop value', 'instruction what is the expected value of the me airdrop', 'expected output based on pre market trading the airdrop value could be around million with tokens priced at approximately each', 'token utility', 'instruction what can me be used for', 'expected output me is used for transaction fees across supported blockchains staking for rewards and participating in governance decisions to influence the development of magic eden', 'claiming process', 'instruction how do i claim my me tokens', 'expected output users need to check their eligibility link their wallet to magic eden platform and claim their allocation via the mobile dapp on the day of the tge staking is also an option post claim', 'future plans', 'instruction what is planned for me after the airdrop', 'expected output magic eden aims to implement a broad on chain trading rewards program where users can earn me for trading alongside other ecosystem expansions and partnerships', 'additional queries', 'staking details', 'instruction can you explain staking with me', 'expected output discuss how users can stake me to earn additional tokens or rewards potentially influencing network decisions', 'multi chain integration', 'instruction which blockchains does me support', 'expected output me integrates with solana bitcoin and ethereum virtual machine evm ecosystems promoting cross chain functionality', 'community allocation', 'instruction how much of the me token supply is for the community', 'expected output million tokens out of billion are allocated for the community with percent available immediately at tge']\n",
      "output file: ./$TRUST ME BROS output\\Dataset#7062Dataset Structure_processed_part1.txt\n",
      "File ./$TRUST ME BROS output\\Dataset#7062Dataset Structure_processed_part1.txt has been created with 30 lines.\n",
      "['what is buy the rumor let s say you are a banana lover ape and you hear the rumor from some', 'apes that your nearby supermarket will raise banana price from to tomorrow what would you do', 'of course you will bring a big bag and buy all the banana you can find.', 'what if your neighbors also love banana but they haven t heard about the rumor yet now you would', 'bring big bags to the supermarket to the market and to amazon to buy all the banana you can find.', 'then tomorrow you dump it on your neighbors at since banana is out of xil2hogkk1', 'now let s say the rumor is not from some normal apes a big ape who owns a big company named', 'blackrock went to bloomberg and start saying things like i am going to buy all the banana in the world in', 'months and there is nothing you can do to stop me but hey am not iervqw3eq1', 'rumor pushes the price up news set the price down banana bought at low will be sold at high ape who', 'is late will have expensive dinner ape who is early get rewarded ape who is greedy get hungry next will', 'be sell the news']\n",
      "output file: ./$TRUST ME BROS output\\Dataset#6209unrollnow.com-1742218145031651724_processed_part1.txt\n",
      "File ./$TRUST ME BROS output\\Dataset#6209unrollnow.com-1742218145031651724_processed_part1.txt has been created with 12 lines.\n",
      "['before doing a series of trade material would like to introduce myself properly first you may know me', 'from my top leaderboard position on binance in january but my trading journey started long before', 'that began part time trading in while running my local business started with a capital of', 'around but it was gone after just two months tried again with but that too was gone after', 'three months and so it went again and again from to all my trading efforts resulted in total', 'loss luckily my local business was doing well so had the capital to continue my trading habit or should', 'say addiction while struggling with forex trading also started researching crypto in if you', 'were around at that time you might remember the shady exchange called btc e it was like binance is', 'now that is where bought my first crypto ltc because it was considered the silver to btc gold also', 'bought the first proof of stake coin no not eth but ppc but that was it for me and crypto at the', 'time did not have enough conviction to invest more so instead kept giving away my business profits to', 'my forex broker like a generous philanthropist were turning point years for me my ltc', 'investment which had bought for back in had grown to my investment which my wife', 'used to joke about had turned into that is when started taking crypto more seriously at the same', 'time my local business was going downhill and barely surviving so thought had found a way out built', 'my first ltc farm and it yielded insanely well but it was still one of the worst decisions ever made the', 'day bought the ltc miner btc was worth the day closed my farm btc was worth it', 'wasn t a good decision but it was a valuable experience like they say you learn from your mistakes and', 'boy did learn also started trading crypto on poloniex the most user friendly exchange at the time', 'which offered x leverage too but then the nightmare began again somehow ended up putting almost', 'all of my net worth into eth at and leveraged it x against btc at around you probably', 'know how that ended btc went up only after the cme news while eth stayed around forever like', 'a stubborn mule that was the first time experienced a nearly wipe out of my capital from more than', 'm to only but did not give up j about a month later we had one of the most exciting alt', 'seasons in history somehow caught a perfect play from x xrpbtc then switched to x ethbtc', 'and made it all back in just two trades and even doubled my net worth to over m talk about a', 'comeback percent at that time there was also heavy tether fud and decided to convert all of my crypto to', 'btc and think about retiring or at least taking a long vacation on a tropical island of course it did not', 'last long about six months later when btc was around in the middle of a bear market somehow', 'discovered bitmex the worst discovery ever in the history of discoveries poloniex leverage looked like', 'child play compared to bitmex at that time mostly forgot about forex trading too who cared about fiat', 'trading when you can literally burn your networth in day mean triple your networth in day of course,', 'it did not end well with bitmex either surprise surprise this time it took me about five months to lose percent', 'of my btc holdings there just before the crash from to then in with the remaining percent of', 'my btc holdings somehow turned back into percent with the famous echo bubble from to then', 'lost percent of these again in the covid crash over leveraging and over trading in a bear choppy market', 'condition were the reasons why almost wiped out all of my capital in just two years wasn t trading was', 'gambling with fancy ta and fa thoughts like a high roller in vegas but without the free drinks luckily', 'for me after taking six months off from trading after the covid crash realized my mistake and returned to', 'trading with a very careful framework and only five btc left as capital the bull market was easy', 'got back to my ath again trading big sizes but with a much more careful approach there were', 'drawdowns in between but they were not as bad as before only about percent of my capital in sync with', 'the market drop which consider not too shabby somehow dodged the luna crash because of one', 'simple thing only had conviction in btc and eth and somehow also dodged the ftx saga because', 'of another simple thing trusted my cold wallet more than sam wallet but the bear market was not', 'a good condition to trade got chopped to death and divided my capital by two just a few months into', 'the fear of another percent net worth wipe out appeared in my mind again so decided to sell all of', 'my crypto literally everything and convert it into my local currency then bought real estate saved', 'money in the bank gave it to my wife and only kept about in my wallet as play money then', 'somehow remembered that forex was still there so found my exness account and started trading', 'again after living so long in the fast moving crypto market forex felt like a walk in the park most of my', 'setups printed money drawdowns were minimal and performance was excellent turned my deposit', 'into and then that into about a few months later with all the profits went back to', 'buying spot crypto again and then traded heavily on binance that is when you saw me on their futures', 'leaderboard and there you have it my trading story during all those rollercoaster moments learned', 'es ee le on ee en re ee la oe ce te x sn sm comer a oe a iy ree ey irene le pera nn seer me', 'aa rn sas penmjeee anny eee shes apcamall caviivilino wy tisits o vvetcal ttt an veer hf aaanuvuett led ih pra li j ivicawws tiga owing.', 'money management because let face it we all need help with that trading fees how important they', 'are and how to reduce them as much as possible watching price action on charts from minute to', 'week trade setups how usually choose my entry stop loss and take profit news trading why', 'fomc is important and why we all need to watch mr powell carefully crypto market what spot coins', 'should hold for the long term what crypto should trade futures on forex market do not underestimate', 'fiat currency what pairs should trade swing or scalp trade if you want me to cover other aspects,', 'please comment here so can add them to the list thank you for reading until this line know this is a', 'very long tweet or should say mini novel but without properly introducing myself how can expect', 'readers to trust me bro', 'performance', 'summary', 'account', 'all accounts v last days v', 'performance', 'usd usd usd', 'fit usd fitable usd t usd', 'usd fita']\n",
      "output file: ./$TRUST ME BROS output\\Dataset#6211unrollnow.com-1684202476994437125_processed_part1.txt\n",
      "output file: ./$TRUST ME BROS output\\Dataset#6211unrollnow.com-1684202476994437125_processed_part2.txt\n",
      "File ./$TRUST ME BROS output\\Dataset#6211unrollnow.com-1684202476994437125_processed_part2.txt has been created with 34 lines.\n"
     ]
    }
   ],
   "source": [
    "output_dir = './$TRUST ME BROS output'\n",
    "for file_type in files_dict.keys():\n",
    "    # retrieve all files under a specific file type\n",
    "    for name, lists in files_dict[file_type]:\n",
    "        clean_and_split_data(name, lists, output_dir=output_dir)"
   ]
  },
  {
   "cell_type": "code",
   "execution_count": 22,
   "metadata": {},
   "outputs": [],
   "source": [
    "rename_all('C:/Users/LARRY/Documents/Scripts/virtuals-internship/$TRUST ME BROS')"
   ]
  }
 ],
 "metadata": {
  "kernelspec": {
   "display_name": "virtuals-internship",
   "language": "python",
   "name": "python3"
  },
  "language_info": {
   "codemirror_mode": {
    "name": "ipython",
    "version": 3
   },
   "file_extension": ".py",
   "mimetype": "text/x-python",
   "name": "python",
   "nbconvert_exporter": "python",
   "pygments_lexer": "ipython3",
   "version": "3.12.3"
  }
 },
 "nbformat": 4,
 "nbformat_minor": 2
}
