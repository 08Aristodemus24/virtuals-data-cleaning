{
 "cells": [
  {
   "cell_type": "code",
   "execution_count": 2,
   "metadata": {},
   "outputs": [],
   "source": [
    "import pandas as pd\n",
    "import os\n",
    "import json\n",
    "import datetime as dt\n",
    "from dateutil import parser \n",
    "import re\n",
    "from concurrent.futures import ThreadPoolExecutor\n",
    "from utilities.preprocessors import normalize_and_clean, extract_keys_values, clean_and_split_data\n",
    "\n",
    "%load_ext autoreload\n",
    "%autoreload 2"
   ]
  },
  {
   "cell_type": "code",
   "execution_count": 3,
   "metadata": {},
   "outputs": [
    {
     "data": {
      "text/plain": [
       "['Dataset#5405November 21 2024 kaidro AMA.docx',\n",
       " 'Dataset#540911252024 kaidro game features.docx',\n",
       " 'Dataset#5445WF Community Round Overview.rtf',\n",
       " 'Dataset#5446alpha LLS test.rtf']"
      ]
     },
     "execution_count": 3,
     "metadata": {},
     "output_type": "execute_result"
    }
   ],
   "source": [
    "input_dir = './rain input'\n",
    "files = os.listdir(input_dir)\n",
    "files"
   ]
  },
  {
   "cell_type": "markdown",
   "metadata": {},
   "source": [
    "{\n",
    "    'jsons': {\n",
    "        'dataset#234': <jsonfile>,\n",
    "        'dataset#234': <jsonfile>,\n",
    "        'dataset#234': <jsonfile>,\n",
    "        ...\n",
    "        'dataset#234': <jsonfile>,\n",
    "    },\n",
    "    'txts': {\n",
    "        'dataset#2324': <read txt files>,\n",
    "        \n",
    "    },\n",
    "    ''\n",
    "}"
   ]
  },
  {
   "cell_type": "code",
   "execution_count": null,
   "metadata": {},
   "outputs": [],
   "source": [
    "json_files = [file for file in files if file.endswith('.json')]\n",
    "jsons = read_json_files(input_dir=input_dir, files=json_files)\n",
    "jsons"
   ]
  }
 ],
 "metadata": {
  "kernelspec": {
   "display_name": "virtuals-internship",
   "language": "python",
   "name": "python3"
  },
  "language_info": {
   "codemirror_mode": {
    "name": "ipython",
    "version": 3
   },
   "file_extension": ".py",
   "mimetype": "text/x-python",
   "name": "python",
   "nbconvert_exporter": "python",
   "pygments_lexer": "ipython3",
   "version": "3.12.3"
  }
 },
 "nbformat": 4,
 "nbformat_minor": 2
}
