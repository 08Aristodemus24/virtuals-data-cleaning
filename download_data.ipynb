{
 "cells": [
  {
   "cell_type": "code",
   "execution_count": 37,
   "metadata": {},
   "outputs": [],
   "source": [
    "import pandas as pd\n",
    "import os\n",
    "import json\n",
    "from concurrent.futures import ThreadPoolExecutor"
   ]
  },
  {
   "cell_type": "code",
   "execution_count": 38,
   "metadata": {},
   "outputs": [],
   "source": [
    "import selenium.webdriver as webdriver\n",
    "from selenium.webdriver.common.keys import Keys\n",
    "\n",
    "from selenium.webdriver.chrome.service import Service as ChromeService\n",
    "from selenium.webdriver.chrome.options import Options as ChromeOptions\n",
    "from webdriver_manager.chrome import ChromeDriverManager\n",
    "\n",
    "from selenium.webdriver.common.by import By\n",
    "from selenium.webdriver.support.wait import WebDriverWait\n",
    "from selenium.common.exceptions import NoSuchElementException, StaleElementReferenceException, TimeoutException\n",
    "from selenium.webdriver.support import expected_conditions as EC\n",
    "\n",
    "from utilities.utilities import element_exists "
   ]
  },
  {
   "cell_type": "code",
   "execution_count": 39,
   "metadata": {},
   "outputs": [],
   "source": [
    "chrome_options = ChromeOptions()\n",
    "service = ChromeService(executable_path=ChromeDriverManager().install())"
   ]
  },
  {
   "cell_type": "code",
   "execution_count": 40,
   "metadata": {},
   "outputs": [],
   "source": [
    "# link where to download data\n",
    "link = 'https://app.virtuals.io/virtuals/9042/contribution'"
   ]
  },
  {
   "cell_type": "code",
   "execution_count": 41,
   "metadata": {},
   "outputs": [],
   "source": [
    "driver = webdriver.Chrome(options=chrome_options, service=service)\n",
    "driver.get(link)\n",
    "_ = WebDriverWait(driver, timeout=20).until(lambda driver: driver.execute_script('return document.readyState === \"complete\"'))"
   ]
  },
  {
   "cell_type": "code",
   "execution_count": 42,
   "metadata": {},
   "outputs": [],
   "source": [
    "contribs_btn = driver.find_element(By.XPATH, '/html/body/div[1]/div[1]/div/div/div/div[2]/div/div[2]/div/div/div[2]/button[2]')\n",
    "contribs_btn.click()"
   ]
  },
  {
   "cell_type": "code",
   "execution_count": 43,
   "metadata": {},
   "outputs": [
    {
     "data": {
      "text/plain": [
       "False"
      ]
     },
     "execution_count": 43,
     "metadata": {},
     "output_type": "execute_result"
    }
   ],
   "source": [
    "element_exists(driver, By.XPATH, '/html/body/path')"
   ]
  },
  {
   "cell_type": "code",
   "execution_count": 44,
   "metadata": {},
   "outputs": [],
   "source": [
    "# select all div elements first\n",
    "list_container = driver.find_element(By.XPATH, '/html/body/div[1]/div[1]/div/div/div/div[2]/div/div[2]/div/div/div[3]/div/div/div/div/div[1]')\n",
    "divs = list_container.find_elements(By.CSS_SELECTOR, 'div.MuiStack-root')\n",
    "divs_to_fine_tune = [div for div in divs if element_exists(div, By.CSS_SELECTOR, 'div:first-child > div:first-child > div:last-child') and div.find_element(By.CSS_SELECTOR, 'div:first-child > div:first-child > div:last-child').text.lower() == 'finetune required']\n",
    "\n",
    "# check each div elements have its decendant span.MuiChip-label if any "
   ]
  },
  {
   "cell_type": "code",
   "execution_count": 45,
   "metadata": {},
   "outputs": [
    {
     "name": "stdout",
     "output_type": "stream",
     "text": [
      "Dataset#7062\n",
      "Finetune Required\n",
      "New Data: Magic Eden $ME\n",
      "0xC1A2...d7dbaF contributed 5 days ago\n",
      "\n",
      "Dataset#7062\n",
      "Finetune Required\n",
      "New Data: Magic Eden $ME\n",
      "0xC1A2...d7dbaF contributed 5 days ago\n",
      "\n",
      "Dataset#7062\n",
      "Finetune Required\n",
      "\n",
      "Dataset#6211\n",
      "Finetune Required\n",
      "New Data: Degen Ape Trading Story.\n",
      "0xC1A2...d7dbaF contributed 7 days ago\n",
      "\n",
      "Dataset#6211\n",
      "Finetune Required\n",
      "New Data: Degen Ape Trading Story.\n",
      "0xC1A2...d7dbaF contributed 7 days ago\n",
      "\n",
      "Dataset#6211\n",
      "Finetune Required\n",
      "\n",
      "Dataset#6209\n",
      "Finetune Required\n",
      "New Data: Buy the Rumor\n",
      "0xC1A2...d7dbaF contributed 7 days ago\n",
      "\n",
      "Dataset#6209\n",
      "Finetune Required\n",
      "New Data: Buy the Rumor\n",
      "0xC1A2...d7dbaF contributed 7 days ago\n",
      "\n",
      "Dataset#6209\n",
      "Finetune Required\n",
      "\n"
     ]
    }
   ],
   "source": [
    "for div in divs_to_fine_tune:\n",
    "    print(f'{div.text}\\n')"
   ]
  },
  {
   "cell_type": "code",
   "execution_count": 46,
   "metadata": {},
   "outputs": [
    {
     "data": {
      "text/plain": [
       "[<selenium.webdriver.remote.webelement.WebElement (session=\"a03eeee97d10372bb49419f7d8af88f9\", element=\"f.99E9A20D737C39A37787029B94D49CB3.d.FBD628562520D89A072E98F2FEC416C5.e.215\")>,\n",
       " <selenium.webdriver.remote.webelement.WebElement (session=\"a03eeee97d10372bb49419f7d8af88f9\", element=\"f.99E9A20D737C39A37787029B94D49CB3.d.FBD628562520D89A072E98F2FEC416C5.e.215\")>,\n",
       " <selenium.webdriver.remote.webelement.WebElement (session=\"a03eeee97d10372bb49419f7d8af88f9\", element=\"f.99E9A20D737C39A37787029B94D49CB3.d.FBD628562520D89A072E98F2FEC416C5.e.215\")>,\n",
       " <selenium.webdriver.remote.webelement.WebElement (session=\"a03eeee97d10372bb49419f7d8af88f9\", element=\"f.99E9A20D737C39A37787029B94D49CB3.d.FBD628562520D89A072E98F2FEC416C5.e.230\")>,\n",
       " <selenium.webdriver.remote.webelement.WebElement (session=\"a03eeee97d10372bb49419f7d8af88f9\", element=\"f.99E9A20D737C39A37787029B94D49CB3.d.FBD628562520D89A072E98F2FEC416C5.e.230\")>,\n",
       " <selenium.webdriver.remote.webelement.WebElement (session=\"a03eeee97d10372bb49419f7d8af88f9\", element=\"f.99E9A20D737C39A37787029B94D49CB3.d.FBD628562520D89A072E98F2FEC416C5.e.230\")>,\n",
       " <selenium.webdriver.remote.webelement.WebElement (session=\"a03eeee97d10372bb49419f7d8af88f9\", element=\"f.99E9A20D737C39A37787029B94D49CB3.d.FBD628562520D89A072E98F2FEC416C5.e.232\")>,\n",
       " <selenium.webdriver.remote.webelement.WebElement (session=\"a03eeee97d10372bb49419f7d8af88f9\", element=\"f.99E9A20D737C39A37787029B94D49CB3.d.FBD628562520D89A072E98F2FEC416C5.e.232\")>,\n",
       " <selenium.webdriver.remote.webelement.WebElement (session=\"a03eeee97d10372bb49419f7d8af88f9\", element=\"f.99E9A20D737C39A37787029B94D49CB3.d.FBD628562520D89A072E98F2FEC416C5.e.232\")>]"
      ]
     },
     "execution_count": 46,
     "metadata": {},
     "output_type": "execute_result"
    }
   ],
   "source": [
    "link_containers = [div.find_element(By.CSS_SELECTOR, 'div:first-child > div:first-child > div:last-child') for div in divs_to_fine_tune]\n",
    "link_containers"
   ]
  },
  {
   "cell_type": "code",
   "execution_count": 49,
   "metadata": {},
   "outputs": [
    {
     "name": "stdout",
     "output_type": "stream",
     "text": [
      "noen\n",
      "noen\n",
      "noen\n",
      "noen\n",
      "noen\n",
      "noen\n",
      "noen\n",
      "noen\n",
      "noen\n"
     ]
    }
   ],
   "source": [
    "for link_container in link_containers:\n",
    "    a_tag = link_container.find_element(By.TAG_NAME, 'a') if element_exists(link_container, By.TAG_NAME, 'a') else None\n",
    "    link = a_tag.get_attribute('href') if a_tag != None else \"noen\"  \n",
    "    print(link)"
   ]
  },
  {
   "cell_type": "code",
   "execution_count": null,
   "metadata": {},
   "outputs": [
    {
     "data": {
      "text/plain": [
       "['Dataset#7062',\n",
       " 'Dataset#7062',\n",
       " 'Dataset#7062',\n",
       " 'Dataset#6211',\n",
       " 'Dataset#6211',\n",
       " 'Dataset#6211',\n",
       " 'Dataset#6209',\n",
       " 'Dataset#6209',\n",
       " 'Dataset#6209']"
      ]
     },
     "execution_count": 33,
     "metadata": {},
     "output_type": "execute_result"
    }
   ],
   "source": [
    "[div.find_element(By.CSS_SELECTOR, 'div:first-child > div:first-child > div:last-child span.MuiChip-label').text for div in divs_to_fine_tune]"
   ]
  }
 ],
 "metadata": {
  "kernelspec": {
   "display_name": "virtuals-internship",
   "language": "python",
   "name": "python3"
  },
  "language_info": {
   "codemirror_mode": {
    "name": "ipython",
    "version": 3
   },
   "file_extension": ".py",
   "mimetype": "text/x-python",
   "name": "python",
   "nbconvert_exporter": "python",
   "pygments_lexer": "ipython3",
   "version": "3.12.3"
  }
 },
 "nbformat": 4,
 "nbformat_minor": 2
}
