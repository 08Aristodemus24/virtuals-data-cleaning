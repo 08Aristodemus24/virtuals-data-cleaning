{
 "cells": [
  {
   "cell_type": "code",
   "execution_count": 78,
   "metadata": {},
   "outputs": [],
   "source": [
    "import pandas as pd\n",
    "import os\n",
    "import json\n",
    "from concurrent.futures import ThreadPoolExecutor\n",
    "import requests\n",
    "import re\n",
    "import time \n",
    "import shutil"
   ]
  },
  {
   "cell_type": "code",
   "execution_count": 46,
   "metadata": {},
   "outputs": [],
   "source": [
    "import selenium.webdriver as webdriver\n",
    "from selenium.webdriver.common.keys import Keys\n",
    "\n",
    "from selenium.webdriver.chrome.service import Service as ChromeService\n",
    "from selenium.webdriver.chrome.options import Options as ChromeOptions\n",
    "from webdriver_manager.chrome import ChromeDriverManager\n",
    "\n",
    "from selenium.webdriver.common.by import By\n",
    "from selenium.webdriver.support.wait import WebDriverWait\n",
    "from selenium.common.exceptions import NoSuchElementException, StaleElementReferenceException, TimeoutException\n",
    "from selenium.webdriver.support import expected_conditions as EC\n",
    "\n",
    "from utilities.utilities import element_exists "
   ]
  },
  {
   "cell_type": "code",
   "execution_count": null,
   "metadata": {},
   "outputs": [],
   "source": [
    "chrome_options = ChromeOptions()\n",
    "chrome_options.add_experimental_option(\"prefs\", {'profile.default_content_setting_values.automatic_downloads': 1})\n",
    "service = ChromeService(executable_path=ChromeDriverManager().install())"
   ]
  },
  {
   "cell_type": "code",
   "execution_count": 48,
   "metadata": {},
   "outputs": [],
   "source": [
    "# link where to download data\n",
    "link = 'https://app.virtuals.io/virtuals/3798/contribution'"
   ]
  },
  {
   "cell_type": "code",
   "execution_count": null,
   "metadata": {},
   "outputs": [],
   "source": [
    "\n",
    "driver = webdriver.Chrome(options=chrome_options, service=service)\n",
    "driver.get(link)\n",
    "driver.maximize_window()\n",
    "time.sleep(5)"
   ]
  },
  {
   "cell_type": "code",
   "execution_count": 50,
   "metadata": {},
   "outputs": [],
   "source": [
    "# /html/body/div/div[1]/div/div/div/div[2]/div/div[2]/div/div/div[2]/button[2]\n",
    "# /html/body/div[1]/div[1]/div/div/div/div[2]/div/div[2]/div/div/div[2]/button[2]\n",
    "# /html/body/div/div[1]/div/div/div/div[2]/div/div[2]/div/div/div[2]/button[2]\n",
    "# /html/body/div/div[1]/div/div/div/div[2]/div/div[2]/div/div/div[2]/button[2]\n",
    "contribs_btn = driver.find_element(By.XPATH, '/html/body/div/div[1]/div/div/div/div[2]/div/div[2]/div/div/div[2]/button[2]')\n",
    "contribs_btn.click()"
   ]
  },
  {
   "cell_type": "code",
   "execution_count": 51,
   "metadata": {},
   "outputs": [
    {
     "data": {
      "text/plain": [
       "False"
      ]
     },
     "execution_count": 51,
     "metadata": {},
     "output_type": "execute_result"
    }
   ],
   "source": [
    "element_exists(driver, By.XPATH, '/html/body/path')"
   ]
  },
  {
   "cell_type": "code",
   "execution_count": 52,
   "metadata": {},
   "outputs": [],
   "source": [
    "# select all div elements first\n",
    "list_container = driver.find_element(By.XPATH, '/html/body/div[1]/div[1]/div/div/div/div[2]/div/div[2]/div/div/div[3]/div/div/div/div/div[1]')\n",
    "divs = list_container.find_elements(By.CSS_SELECTOR, 'div.MuiStack-root')\n",
    "divs_to_fine_tune = [div.find_element(By.CSS_SELECTOR, 'div:first-child > div:first-child') for div in divs if element_exists(div, By.CSS_SELECTOR, 'div:first-child > div:first-child')]# and (\"dataset\" in div.find_element(By.CSS_SELECTOR, 'div:first-child > div:first-child').text)]\n",
    "\n",
    "# check each div elements have its decendant span.MuiChip-label if any "
   ]
  },
  {
   "cell_type": "code",
   "execution_count": 53,
   "metadata": {},
   "outputs": [
    {
     "data": {
      "text/plain": [
       "[<selenium.webdriver.remote.webelement.WebElement (session=\"0752447fe6719a5053afd12dd965d8e6\", element=\"f.C3377AAFD762561462AD2BBA456FF337.d.BCAABF8A3AD8FF3F8F899AF439426B9B.e.113\")>,\n",
       " <selenium.webdriver.remote.webelement.WebElement (session=\"0752447fe6719a5053afd12dd965d8e6\", element=\"f.C3377AAFD762561462AD2BBA456FF337.d.BCAABF8A3AD8FF3F8F899AF439426B9B.e.113\")>,\n",
       " <selenium.webdriver.remote.webelement.WebElement (session=\"0752447fe6719a5053afd12dd965d8e6\", element=\"f.C3377AAFD762561462AD2BBA456FF337.d.BCAABF8A3AD8FF3F8F899AF439426B9B.e.193\")>,\n",
       " <selenium.webdriver.remote.webelement.WebElement (session=\"0752447fe6719a5053afd12dd965d8e6\", element=\"f.C3377AAFD762561462AD2BBA456FF337.d.BCAABF8A3AD8FF3F8F899AF439426B9B.e.117\")>,\n",
       " <selenium.webdriver.remote.webelement.WebElement (session=\"0752447fe6719a5053afd12dd965d8e6\", element=\"f.C3377AAFD762561462AD2BBA456FF337.d.BCAABF8A3AD8FF3F8F899AF439426B9B.e.117\")>,\n",
       " <selenium.webdriver.remote.webelement.WebElement (session=\"0752447fe6719a5053afd12dd965d8e6\", element=\"f.C3377AAFD762561462AD2BBA456FF337.d.BCAABF8A3AD8FF3F8F899AF439426B9B.e.194\")>,\n",
       " <selenium.webdriver.remote.webelement.WebElement (session=\"0752447fe6719a5053afd12dd965d8e6\", element=\"f.C3377AAFD762561462AD2BBA456FF337.d.BCAABF8A3AD8FF3F8F899AF439426B9B.e.142\")>,\n",
       " <selenium.webdriver.remote.webelement.WebElement (session=\"0752447fe6719a5053afd12dd965d8e6\", element=\"f.C3377AAFD762561462AD2BBA456FF337.d.BCAABF8A3AD8FF3F8F899AF439426B9B.e.142\")>,\n",
       " <selenium.webdriver.remote.webelement.WebElement (session=\"0752447fe6719a5053afd12dd965d8e6\", element=\"f.C3377AAFD762561462AD2BBA456FF337.d.BCAABF8A3AD8FF3F8F899AF439426B9B.e.200\")>,\n",
       " <selenium.webdriver.remote.webelement.WebElement (session=\"0752447fe6719a5053afd12dd965d8e6\", element=\"f.C3377AAFD762561462AD2BBA456FF337.d.BCAABF8A3AD8FF3F8F899AF439426B9B.e.160\")>,\n",
       " <selenium.webdriver.remote.webelement.WebElement (session=\"0752447fe6719a5053afd12dd965d8e6\", element=\"f.C3377AAFD762561462AD2BBA456FF337.d.BCAABF8A3AD8FF3F8F899AF439426B9B.e.160\")>,\n",
       " <selenium.webdriver.remote.webelement.WebElement (session=\"0752447fe6719a5053afd12dd965d8e6\", element=\"f.C3377AAFD762561462AD2BBA456FF337.d.BCAABF8A3AD8FF3F8F899AF439426B9B.e.204\")>,\n",
       " <selenium.webdriver.remote.webelement.WebElement (session=\"0752447fe6719a5053afd12dd965d8e6\", element=\"f.C3377AAFD762561462AD2BBA456FF337.d.BCAABF8A3AD8FF3F8F899AF439426B9B.e.169\")>,\n",
       " <selenium.webdriver.remote.webelement.WebElement (session=\"0752447fe6719a5053afd12dd965d8e6\", element=\"f.C3377AAFD762561462AD2BBA456FF337.d.BCAABF8A3AD8FF3F8F899AF439426B9B.e.169\")>,\n",
       " <selenium.webdriver.remote.webelement.WebElement (session=\"0752447fe6719a5053afd12dd965d8e6\", element=\"f.C3377AAFD762561462AD2BBA456FF337.d.BCAABF8A3AD8FF3F8F899AF439426B9B.e.206\")>]"
      ]
     },
     "execution_count": 53,
     "metadata": {},
     "output_type": "execute_result"
    }
   ],
   "source": [
    "filtered = list(filter(lambda div: re.search(r\"dataset#[0-9]{1,}\", div.text.lower()), divs_to_fine_tune))\n",
    "filtered"
   ]
  },
  {
   "cell_type": "code",
   "execution_count": 54,
   "metadata": {},
   "outputs": [
    {
     "name": "stdout",
     "output_type": "stream",
     "text": [
      "<re.Match object; span=(0, 12), match='dataset#6421'>\n",
      "Dataset#6421 Processing\n",
      "\n",
      "<re.Match object; span=(0, 12), match='dataset#6421'>\n",
      "Dataset#6421 Processing\n",
      "\n",
      "<re.Match object; span=(0, 12), match='dataset#6421'>\n",
      "Dataset#6421\n",
      "\n",
      "<re.Match object; span=(0, 12), match='dataset#6420'>\n",
      "Dataset#6420 Finetune Required\n",
      "\n",
      "<re.Match object; span=(0, 12), match='dataset#6420'>\n",
      "Dataset#6420 Finetune Required\n",
      "\n",
      "<re.Match object; span=(0, 12), match='dataset#6420'>\n",
      "Dataset#6420\n",
      "\n",
      "<re.Match object; span=(0, 12), match='dataset#6159'>\n",
      "Dataset#6159 Finetune Required\n",
      "\n",
      "<re.Match object; span=(0, 12), match='dataset#6159'>\n",
      "Dataset#6159 Finetune Required\n",
      "\n",
      "<re.Match object; span=(0, 12), match='dataset#6159'>\n",
      "Dataset#6159\n",
      "\n",
      "<re.Match object; span=(0, 12), match='dataset#5602'>\n",
      "Dataset#5602 Finetune Required\n",
      "\n",
      "<re.Match object; span=(0, 12), match='dataset#5602'>\n",
      "Dataset#5602 Finetune Required\n",
      "\n",
      "<re.Match object; span=(0, 12), match='dataset#5602'>\n",
      "Dataset#5602\n",
      "\n",
      "<re.Match object; span=(0, 12), match='dataset#5484'>\n",
      "Dataset#5484 Finetune Required\n",
      "\n",
      "<re.Match object; span=(0, 12), match='dataset#5484'>\n",
      "Dataset#5484 Finetune Required\n",
      "\n",
      "<re.Match object; span=(0, 12), match='dataset#5484'>\n",
      "Dataset#5484\n",
      "\n"
     ]
    }
   ],
   "source": [
    "for div in filtered:\n",
    "    text = re.sub(r\"[\\n]\", \" \", div.text)\n",
    "    print(re.search(r\"dataset#[0-9]{1,}\", div.text.lower()))\n",
    "    print(f'{text}\\n')"
   ]
  },
  {
   "cell_type": "code",
   "execution_count": 55,
   "metadata": {},
   "outputs": [
    {
     "data": {
      "text/plain": [
       "[<selenium.webdriver.remote.webelement.WebElement (session=\"0752447fe6719a5053afd12dd965d8e6\", element=\"f.C3377AAFD762561462AD2BBA456FF337.d.BCAABF8A3AD8FF3F8F899AF439426B9B.e.113\")>,\n",
       " <selenium.webdriver.remote.webelement.WebElement (session=\"0752447fe6719a5053afd12dd965d8e6\", element=\"f.C3377AAFD762561462AD2BBA456FF337.d.BCAABF8A3AD8FF3F8F899AF439426B9B.e.113\")>,\n",
       " None,\n",
       " <selenium.webdriver.remote.webelement.WebElement (session=\"0752447fe6719a5053afd12dd965d8e6\", element=\"f.C3377AAFD762561462AD2BBA456FF337.d.BCAABF8A3AD8FF3F8F899AF439426B9B.e.117\")>,\n",
       " <selenium.webdriver.remote.webelement.WebElement (session=\"0752447fe6719a5053afd12dd965d8e6\", element=\"f.C3377AAFD762561462AD2BBA456FF337.d.BCAABF8A3AD8FF3F8F899AF439426B9B.e.117\")>,\n",
       " None,\n",
       " <selenium.webdriver.remote.webelement.WebElement (session=\"0752447fe6719a5053afd12dd965d8e6\", element=\"f.C3377AAFD762561462AD2BBA456FF337.d.BCAABF8A3AD8FF3F8F899AF439426B9B.e.142\")>,\n",
       " <selenium.webdriver.remote.webelement.WebElement (session=\"0752447fe6719a5053afd12dd965d8e6\", element=\"f.C3377AAFD762561462AD2BBA456FF337.d.BCAABF8A3AD8FF3F8F899AF439426B9B.e.142\")>,\n",
       " None,\n",
       " <selenium.webdriver.remote.webelement.WebElement (session=\"0752447fe6719a5053afd12dd965d8e6\", element=\"f.C3377AAFD762561462AD2BBA456FF337.d.BCAABF8A3AD8FF3F8F899AF439426B9B.e.160\")>,\n",
       " <selenium.webdriver.remote.webelement.WebElement (session=\"0752447fe6719a5053afd12dd965d8e6\", element=\"f.C3377AAFD762561462AD2BBA456FF337.d.BCAABF8A3AD8FF3F8F899AF439426B9B.e.160\")>,\n",
       " None,\n",
       " <selenium.webdriver.remote.webelement.WebElement (session=\"0752447fe6719a5053afd12dd965d8e6\", element=\"f.C3377AAFD762561462AD2BBA456FF337.d.BCAABF8A3AD8FF3F8F899AF439426B9B.e.169\")>,\n",
       " <selenium.webdriver.remote.webelement.WebElement (session=\"0752447fe6719a5053afd12dd965d8e6\", element=\"f.C3377AAFD762561462AD2BBA456FF337.d.BCAABF8A3AD8FF3F8F899AF439426B9B.e.169\")>,\n",
       " None]"
      ]
     },
     "execution_count": 55,
     "metadata": {},
     "output_type": "execute_result"
    }
   ],
   "source": [
    "outputs = []\n",
    "for el in filtered:\n",
    "    div = el if element_exists(el, By.CSS_SELECTOR, \"svg.tabler-icon-download\") else None \n",
    "    outputs.append(div)\n",
    "outputs"
   ]
  },
  {
   "cell_type": "code",
   "execution_count": 56,
   "metadata": {},
   "outputs": [
    {
     "data": {
      "text/plain": [
       "[<selenium.webdriver.remote.webelement.WebElement (session=\"0752447fe6719a5053afd12dd965d8e6\", element=\"f.C3377AAFD762561462AD2BBA456FF337.d.BCAABF8A3AD8FF3F8F899AF439426B9B.e.113\")>,\n",
       " <selenium.webdriver.remote.webelement.WebElement (session=\"0752447fe6719a5053afd12dd965d8e6\", element=\"f.C3377AAFD762561462AD2BBA456FF337.d.BCAABF8A3AD8FF3F8F899AF439426B9B.e.117\")>,\n",
       " <selenium.webdriver.remote.webelement.WebElement (session=\"0752447fe6719a5053afd12dd965d8e6\", element=\"f.C3377AAFD762561462AD2BBA456FF337.d.BCAABF8A3AD8FF3F8F899AF439426B9B.e.169\")>,\n",
       " <selenium.webdriver.remote.webelement.WebElement (session=\"0752447fe6719a5053afd12dd965d8e6\", element=\"f.C3377AAFD762561462AD2BBA456FF337.d.BCAABF8A3AD8FF3F8F899AF439426B9B.e.142\")>,\n",
       " <selenium.webdriver.remote.webelement.WebElement (session=\"0752447fe6719a5053afd12dd965d8e6\", element=\"f.C3377AAFD762561462AD2BBA456FF337.d.BCAABF8A3AD8FF3F8F899AF439426B9B.e.160\")>]"
      ]
     },
     "execution_count": 56,
     "metadata": {},
     "output_type": "execute_result"
    }
   ],
   "source": [
    "outputs = list(filter(None, set(outputs)))\n",
    "outputs"
   ]
  },
  {
   "cell_type": "code",
   "execution_count": 57,
   "metadata": {},
   "outputs": [
    {
     "name": "stdout",
     "output_type": "stream",
     "text": [
      "Dataset#6421\n",
      "Processing\n",
      "\n",
      "Dataset#6420\n",
      "Finetune Required\n",
      "\n",
      "Dataset#5484\n",
      "Finetune Required\n",
      "\n",
      "Dataset#6159\n",
      "Finetune Required\n",
      "\n",
      "Dataset#5602\n",
      "Finetune Required\n",
      "\n"
     ]
    }
   ],
   "source": [
    "for output in outputs:\n",
    "    print(output.text, end='\\n\\n')"
   ]
  },
  {
   "cell_type": "code",
   "execution_count": 69,
   "metadata": {},
   "outputs": [
    {
     "data": {
      "text/plain": [
       "'C:/Users/LARRY/Downloads\\\\NDA Agreement Larry -PATH SYSTEMS-output.pdf'"
      ]
     },
     "execution_count": 69,
     "metadata": {},
     "output_type": "execute_result"
    }
   ],
   "source": [
    "downloads_path = 'C:/Users/LARRY/Downloads'\n",
    "filename = max([os.path.join(downloads_path, f) for f in os.listdir(downloads_path)], key=os.path.getctime)\n",
    "filename"
   ]
  },
  {
   "cell_type": "code",
   "execution_count": 72,
   "metadata": {},
   "outputs": [
    {
     "data": {
      "text/plain": [
       "'NDA Agreement Larry -PATH SYSTEMS-output.pdf'"
      ]
     },
     "execution_count": 72,
     "metadata": {},
     "output_type": "execute_result"
    }
   ],
   "source": [
    "base_file_name = filename.split('\\\\')[-1]\n",
    "base_file_name"
   ]
  },
  {
   "cell_type": "code",
   "execution_count": 73,
   "metadata": {},
   "outputs": [
    {
     "data": {
      "text/plain": [
       "'dataset#2342NDA Agreement Larry -PATH SYSTEMS-output.pdf'"
      ]
     },
     "execution_count": 73,
     "metadata": {},
     "output_type": "execute_result"
    }
   ],
   "source": [
    "new_file_name = f\"dataset#2342{base_file_name}\"\n",
    "new_file_name"
   ]
  },
  {
   "cell_type": "code",
   "execution_count": 74,
   "metadata": {},
   "outputs": [
    {
     "data": {
      "text/plain": [
       "'C:/Users/LARRY/Downloads\\\\dataset#2342NDA Agreement Larry -PATH SYSTEMS-output.pdf'"
      ]
     },
     "execution_count": 74,
     "metadata": {},
     "output_type": "execute_result"
    }
   ],
   "source": [
    "os.path.join(downloads_path, new_file_name)"
   ]
  },
  {
   "cell_type": "code",
   "execution_count": null,
   "metadata": {},
   "outputs": [
    {
     "name": "stdout",
     "output_type": "stream",
     "text": [
      "downloading dataset#6421...\n",
      "downloading dataset#6420...\n",
      "downloading dataset#5484...\n",
      "downloading dataset#6159...\n",
      "downloading dataset#5602...\n"
     ]
    }
   ],
   "source": [
    "output_dir = './NAME OF DIRECTORY TO STORE INPUT'\n",
    "os.makedirs(output_dir, exist_ok=True)\n",
    "\n",
    "dataset_names = []\n",
    "downloads_path = 'C:/Users/LARRY/Downloads'\n",
    "\n",
    "for div in outputs:\n",
    "    text = re.sub(r\"[\\n]\", \" \", div.text.lower())\n",
    "    dataset_num = re.search(r\"dataset#[0-9]+\", text)[0]\n",
    "    print(f\"downloading {dataset_num}...\")\n",
    "\n",
    "    # extracting clickable svg\n",
    "    svg = div.find_element(By.CSS_SELECTOR, \"svg.tabler-icon-download\")\n",
    "    svg.click()\n",
    "\n",
    "    # give 2 second delay so file can be downloaded\n",
    "    time.sleep(3)\n",
    "\n",
    "    # get most rececntly downloaded file\n",
    "    file_path = max([os.path.join(downloads_path, f) for f in os.listdir(downloads_path)], key=os.path.getctime)\n",
    "    base_file_name = file_path.split('\\\\')[-1]\n",
    "    new_file_name = f\"{dataset_num}{base_file_name}\"\n",
    "    new_file_path = os.path.join(downloads_path, new_file_name)\n",
    "    os.rename(file_path, new_file_path)\n",
    "\n",
    "    relocated_path = os.path.join(output_dir, new_file_name)\n",
    "    shutil.move(new_file_path, relocated_path)"
   ]
  }
 ],
 "metadata": {
  "kernelspec": {
   "display_name": "virtuals-internship",
   "language": "python",
   "name": "python3"
  },
  "language_info": {
   "codemirror_mode": {
    "name": "ipython",
    "version": 3
   },
   "file_extension": ".py",
   "mimetype": "text/x-python",
   "name": "python",
   "nbconvert_exporter": "python",
   "pygments_lexer": "ipython3",
   "version": "3.12.3"
  }
 },
 "nbformat": 4,
 "nbformat_minor": 2
}
