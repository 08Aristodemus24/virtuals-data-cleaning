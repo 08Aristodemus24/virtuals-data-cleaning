{
 "cells": [
  {
   "cell_type": "markdown",
   "metadata": {},
   "source": [
    "# Why your agent may not be tweeting (how to setup X API credentials)"
   ]
  },
  {
   "cell_type": "code",
   "execution_count": null,
   "metadata": {},
   "outputs": [],
   "source": [
    "import os\n",
    "from IPython.display import Image\n",
    "from IPython.core.display import display"
   ]
  },
  {
   "cell_type": "code",
   "execution_count": 49,
   "metadata": {},
   "outputs": [],
   "source": [
    "dir = \"./figures and images/\""
   ]
  },
  {
   "cell_type": "markdown",
   "metadata": {},
   "source": [
    "## 1. Configure your agent in the sandbox"
   ]
  },
  {
   "cell_type": "markdown",
   "metadata": {},
   "source": [
    "#### Check to see if you still use G.A.M.E."
   ]
  },
  {
   "cell_type": "code",
   "execution_count": null,
   "metadata": {},
   "outputs": [],
   "source": [
    "display(Image(filename=os.path.join(dir, \"G.A.M.E. Sandbox (not lite).png\")))"
   ]
  },
  {
   "cell_type": "markdown",
   "metadata": {},
   "source": [
    "#### if so, switch to `use my credentials` instead. It is important to note that you need to create an X API Developer account first at https://developer.x.com/en/portal/"
   ]
  },
  {
   "cell_type": "code",
   "execution_count": null,
   "metadata": {},
   "outputs": [],
   "source": [
    "display(Image(filename=os.path.join(dir, \"credentials fields.png\")))"
   ]
  },
  {
   "cell_type": "markdown",
   "metadata": {},
   "source": [
    "# 2. Create your X API credentials if no credentials yet"
   ]
  },
  {
   "cell_type": "markdown",
   "metadata": {},
   "source": [
    "#### From here you will need to create the 4 tokens `X_API_KEY`, `X_API_KEY_SECRET`, `X_ACCESS_TOKEN`, and `X_ACCESS_TOKEN_SECRET`, which will you will later need to populate the previous `Consumer API Key`, `Consumer API Secret`, `Access Token`, and `Access Token Secret` respectively. This can be found if you navigate in the sidepanel to `projects & apps` to the project you made (or `default project-<some number>` which was automatically made) to the app (which will usually have a name with random numbers or id i.e. `<1834524324534464John1810>`) and to the `Keys and Tokens` tab"
   ]
  },
  {
   "cell_type": "code",
   "execution_count": null,
   "metadata": {},
   "outputs": [],
   "source": [
    "display(Image(filename=os.path.join(dir, \"projects and apps.png\")))"
   ]
  },
  {
   "cell_type": "code",
   "execution_count": null,
   "metadata": {},
   "outputs": [],
   "source": [
    "display(Image(filename=os.path.join(dir, \"keys and tokens.png\")))"
   ]
  },
  {
   "cell_type": "markdown",
   "metadata": {},
   "source": [
    "# 3. Set/Edit apps user authentication settings"
   ]
  },
  {
   "cell_type": "markdown",
   "metadata": {},
   "source": [
    "#### For now copy your credentials and store it somewhere safe. In your app's `settings` tab it's important to note that you need to also make sure the `app permissions` are read and write so your agent can post tweets, for the `type of app` it needs to be set to `web app, automated web app or bot` under the `website` field add your agents X account, and then under the `callback URI field` you need to add this URI https://api-oauth2callback-cmmzswhzaq-as.a.run.app/"
   ]
  },
  {
   "cell_type": "code",
   "execution_count": null,
   "metadata": {},
   "outputs": [],
   "source": [
    "display(Image(filename=os.path.join(dir, \"user auth settings.png\")))"
   ]
  },
  {
   "cell_type": "code",
   "execution_count": null,
   "metadata": {},
   "outputs": [],
   "source": [
    "display(Image(filename=os.path.join(dir, \"app permisions.png\")))\n",
    "display(Image(filename=os.path.join(dir, \"app info.png\")))"
   ]
  },
  {
   "cell_type": "markdown",
   "metadata": {},
   "source": [
    "#### once done save"
   ]
  },
  {
   "cell_type": "markdown",
   "metadata": {},
   "source": [
    "# 4. Populate fields under `my credentials` in G.A.M.E. sandbox"
   ]
  },
  {
   "cell_type": "code",
   "execution_count": null,
   "metadata": {},
   "outputs": [],
   "source": [
    "display(Image(filename=os.path.join(dir, \"credentials fields.png\")))"
   ]
  },
  {
   "cell_type": "markdown",
   "metadata": {},
   "source": [
    "#### now go back to your agents G.A.M.E. sandbox and then populate the `Consumer API Key`, `Consumer API Secret`, `Access Token`, and `Access Token Secret` fields with your newly created `X_API_KEY`, `X_API_KEY_SECRET`, `X_ACCESS_TOKEN`, and `X_ACCESS_TOKEN_SECRET`, which will you will later need to populate the previous "
   ]
  },
  {
   "cell_type": "markdown",
   "metadata": {},
   "source": [
    "# 5. Add new responses under X prompt configuration"
   ]
  },
  {
   "cell_type": "code",
   "execution_count": null,
   "metadata": {},
   "outputs": [],
   "source": [
    "display(Image(filename=os.path.join(dir, \"responses generation.png\")))"
   ]
  },
  {
   "cell_type": "markdown",
   "metadata": {},
   "source": [
    "#### You need to navigate to: `X Prompt Config` -> scroll down to find `response generation` -> click `add new response` (At least 5)"
   ]
  },
  {
   "cell_type": "markdown",
   "metadata": {},
   "source": [
    "# 6. Redeploy agent to save changes"
   ]
  },
  {
   "cell_type": "markdown",
   "metadata": {},
   "source": [
    "# 7. Monitoring the Agent's behavior"
   ]
  },
  {
   "cell_type": "markdown",
   "metadata": {},
   "source": [
    "#### sometimes the agent will be stuck perhaps in \"searching the internet\" or \"not tweeting\" for long hours, in this case we could check the agents planner and reaction modules under the `terminal` tab and also send the link of the agent to the virtuals team in discord server"
   ]
  },
  {
   "cell_type": "code",
   "execution_count": null,
   "metadata": {},
   "outputs": [],
   "source": [
    "display(Image(filename=os.path.join(dir, \"planner module.png\")))\n",
    "display(Image(filename=os.path.join(dir, \"reaction module.png\")))"
   ]
  },
  {
   "cell_type": "markdown",
   "metadata": {},
   "source": [
    "# 8. Halting `search_internet` functionality of agent"
   ]
  },
  {
   "cell_type": "markdown",
   "metadata": {},
   "source": [
    "#### In either case of the agent being stuck searching the internet, or not tweeting for long hours, we could configure the agent again in the G.A.M.E. sandbox and uncheck the `search_internet` function. Once done save and redeploy it"
   ]
  },
  {
   "cell_type": "code",
   "execution_count": null,
   "metadata": {},
   "outputs": [],
   "source": [
    "display(Image(filename=os.path.join(dir, \"unchceking search internet.png\")))"
   ]
  },
  {
   "cell_type": "markdown",
   "metadata": {},
   "source": [
    "#### If the agent can be seen tweeting or having already tweeted, you can reconfigure the agent in the G.A.M.E. sandbox by rechecking the `search_function`. Once done redeploy and monitor again the agent in the terminal to see if it will continute posting tweets for instance or stop tweeting. If still fails to tweet inform Ms. Aem to refresh it"
   ]
  }
 ],
 "metadata": {
  "kernelspec": {
   "display_name": "virtuals-data-cleaning",
   "language": "python",
   "name": "python3"
  },
  "language_info": {
   "codemirror_mode": {
    "name": "ipython",
    "version": 3
   },
   "file_extension": ".py",
   "mimetype": "text/x-python",
   "name": "python",
   "nbconvert_exporter": "python",
   "pygments_lexer": "ipython3",
   "version": "3.12.3"
  }
 },
 "nbformat": 4,
 "nbformat_minor": 2
}
